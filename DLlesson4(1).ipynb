{
  "nbformat": 4,
  "nbformat_minor": 0,
  "metadata": {
    "colab": {
      "provenance": [],
      "authorship_tag": "ABX9TyPYvvX+G7d/wp4EvST6MBeR",
      "include_colab_link": true
    },
    "kernelspec": {
      "name": "python3",
      "display_name": "Python 3"
    },
    "language_info": {
      "name": "python"
    }
  },
  "cells": [
    {
      "cell_type": "markdown",
      "metadata": {
        "id": "view-in-github",
        "colab_type": "text"
      },
      "source": [
        "<a href=\"https://colab.research.google.com/github/KRG0405/practice/blob/main/DLlesson4(1).ipynb\" target=\"_parent\"><img src=\"https://colab.research.google.com/assets/colab-badge.svg\" alt=\"Open In Colab\"/></a>"
      ]
    },
    {
      "cell_type": "code",
      "execution_count": 1,
      "metadata": {
        "colab": {
          "base_uri": "https://localhost:8080/"
        },
        "id": "nhW5ZqK4S7Qg",
        "outputId": "f8192a09-8fce-4941-a109-a8a5507303d0"
      },
      "outputs": [
        {
          "output_type": "stream",
          "name": "stdout",
          "text": [
            "Age: 25\n"
          ]
        }
      ],
      "source": [
        "# An example of an integer\n",
        "age = 25\n",
        "print(\"Age:\", age)"
      ]
    },
    {
      "cell_type": "code",
      "source": [
        "# An example of a float\n",
        "average_score = 82.5\n",
        "print(\"Average Score:\", average_score)"
      ],
      "metadata": {
        "colab": {
          "base_uri": "https://localhost:8080/"
        },
        "id": "leAXFZLdTCT4",
        "outputId": "8a23c00d-994f-47cd-d488-d3eb8b9a61b1"
      },
      "execution_count": 2,
      "outputs": [
        {
          "output_type": "stream",
          "name": "stdout",
          "text": [
            "Average Score: 82.5\n"
          ]
        }
      ]
    },
    {
      "cell_type": "code",
      "source": [
        "# An example of a string\n",
        "name = input()  # A pop-up box will appear and wait for your input. Type a name.\n",
        "print(\"Hello, %s!\"%name)  # % operator: The % operator is used for string formatting. It links the string \"Hello, %s!\" with the variable name to replace the %s placeholder."
      ],
      "metadata": {
        "colab": {
          "base_uri": "https://localhost:8080/"
        },
        "id": "Wp47cRMnTGFI",
        "outputId": "0f1f32bc-941f-4300-e16f-c48e4c78fc31"
      },
      "execution_count": 3,
      "outputs": [
        {
          "output_type": "stream",
          "name": "stdout",
          "text": [
            "krg\n",
            "Hello, krg!\n"
          ]
        }
      ]
    },
    {
      "cell_type": "code",
      "source": [
        "# An example of a string\n",
        "name = input()  # A pop-up box will appear and wait for your input. Type a name.\n",
        "print(f\"Hello, {name}!\")    #"
      ],
      "metadata": {
        "colab": {
          "base_uri": "https://localhost:8080/"
        },
        "id": "LNlYBgRRTLEE",
        "outputId": "21e6d94e-73b7-4b3b-8e9f-d09a9c886c6b"
      },
      "execution_count": 6,
      "outputs": [
        {
          "output_type": "stream",
          "name": "stdout",
          "text": [
            "krg\n",
            "Hello, krg!\n"
          ]
        }
      ]
    },
    {
      "cell_type": "code",
      "source": [
        "mytext = \"\"\"\n",
        "Long long time ago, there lived a lion called Lezzi.\n",
        "One day, ....\n",
        "\"\"\"\n",
        "print(mytext)"
      ],
      "metadata": {
        "colab": {
          "base_uri": "https://localhost:8080/"
        },
        "id": "A_fHMBaxTaGS",
        "outputId": "ae66c6a6-6646-4b5e-fa48-d876cef9c5c1"
      },
      "execution_count": 7,
      "outputs": [
        {
          "output_type": "stream",
          "name": "stdout",
          "text": [
            "\n",
            "Long long time ago, there lived a lion called Lezzi.\n",
            "One day, ....\n",
            "\n"
          ]
        }
      ]
    },
    {
      "cell_type": "code",
      "source": [
        "# An example of a list\n",
        "favorite_books = [\"To Kill a Mockingbird\", \"1984\", \"The Great Gatsby\"]\n",
        "print(\"Favorite Books:\", favorite_books)"
      ],
      "metadata": {
        "colab": {
          "base_uri": "https://localhost:8080/"
        },
        "id": "1MKEw5RXTdO2",
        "outputId": "9bdbbd37-6636-4233-fc7b-1be604510163"
      },
      "execution_count": 8,
      "outputs": [
        {
          "output_type": "stream",
          "name": "stdout",
          "text": [
            "Favorite Books: ['To Kill a Mockingbird', '1984', 'The Great Gatsby']\n"
          ]
        }
      ]
    },
    {
      "cell_type": "code",
      "source": [
        "# An example of a dictionary\n",
        "student_grades = {\"Alice\": 90, \"Bob\": 85, \"Charlie\": 95}\n",
        "print(\"Student Grades:\", student_grades)"
      ],
      "metadata": {
        "colab": {
          "base_uri": "https://localhost:8080/"
        },
        "id": "_BnY08s_TguN",
        "outputId": "e9d8e6c9-7310-45ed-aea4-ec92f58190d9"
      },
      "execution_count": 9,
      "outputs": [
        {
          "output_type": "stream",
          "name": "stdout",
          "text": [
            "Student Grades: {'Alice': 90, 'Bob': 85, 'Charlie': 95}\n"
          ]
        }
      ]
    },
    {
      "cell_type": "code",
      "source": [
        "# Return Alice's grade\n",
        "student_grades['Alice']"
      ],
      "metadata": {
        "colab": {
          "base_uri": "https://localhost:8080/"
        },
        "id": "mfAihw9xTjP1",
        "outputId": "9c79621d-c8b4-4f0e-d90b-8ccf7c12cae8"
      },
      "execution_count": 10,
      "outputs": [
        {
          "output_type": "execute_result",
          "data": {
            "text/plain": [
              "90"
            ]
          },
          "metadata": {},
          "execution_count": 10
        }
      ]
    },
    {
      "cell_type": "code",
      "source": [
        "# An example of a tuple\n",
        "months_of_the_year = (\"January\", \"February\", \"March\", \"April\")\n",
        "print(\"Months of the Year:\", months_of_the_year)"
      ],
      "metadata": {
        "colab": {
          "base_uri": "https://localhost:8080/"
        },
        "id": "HFRHP1KpTn51",
        "outputId": "74138ef5-86d1-4bb6-cdfb-fa5af2e2678c"
      },
      "execution_count": 11,
      "outputs": [
        {
          "output_type": "stream",
          "name": "stdout",
          "text": [
            "Months of the Year: ('January', 'February', 'March', 'April')\n"
          ]
        }
      ]
    }
  ]
}